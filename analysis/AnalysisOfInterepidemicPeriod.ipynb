{
 "cells": [
  {
   "cell_type": "code",
   "execution_count": 1,
   "id": "dcff52c6-7c49-46a9-9fba-8f087106258b",
   "metadata": {},
   "outputs": [
    {
     "name": "stdout",
     "output_type": "stream",
     "text": [
      "/Users/jmunday/Documents/InterepidemicPeriods\n"
     ]
    }
   ],
   "source": [
    "import sys\n",
    "import os\n",
    "os.chdir(r'..')\n",
    "\n",
    "import numpy as np\n",
    "import pandas as pd\n",
    "import scipy.stats as st\n",
    "import networkx as nx\n",
    "import scipy as sp \n",
    "import matplotlib.pyplot as plt\n",
    "plt.rcParams[\"figure.dpi\"] = 300\n",
    "import seaborn as sns\n",
    "import matplotlib.cm as cm\n",
    "\n",
    "import hickle\n",
    "\n",
    "sys.path.append(os.getcwd() + '/outputs')\n",
    "sys.path.append(os.getcwd() + '/functions')\n",
    "sys.path.append(os.getcwd() + '/data')\n",
    "\n",
    "\n",
    "import vaccination as vacc\n",
    "import vaccination as iv\n",
    "import models\n",
    "import transnet\n",
    "import data_loader as dl\n",
    "import plotting as pl\n",
    "\n",
    "import warnings\n",
    "\n",
    "warnings.simplefilter(action='ignore')\n",
    "\n",
    "\n",
    "%matplotlib inline"
   ]
  },
  {
   "cell_type": "code",
   "execution_count": 2,
   "id": "ea44807b-258d-4751-aa52-1476f01453f1",
   "metadata": {},
   "outputs": [],
   "source": [
    "inc_nodes = np.intersect1d(transnet.nodes, transnet.school_data.BRIN)"
   ]
  },
  {
   "cell_type": "code",
   "execution_count": 4,
   "id": "5aad4183-ded0-4fcf-8d13-3fbb0a7ae1c5",
   "metadata": {},
   "outputs": [],
   "source": [
    "i = 0\n",
    "loaded_cons_yso = []\n",
    "loaded_seeds_yso = []\n",
    "loaded_vacc_yso = []\n",
    "dirlist = os.listdir('outputs/netresyso/succ')\n",
    "for f in dirlist:\n",
    "    if 'DS_Store' not in f:\n",
    "        loaded_cons_yso.append(list(np.load('outputs/netresyso/succ/' + f)))\n",
    "        loaded_seeds_yso.append(f[:6])\n",
    "        loaded_vacc_yso.append(f[11:13].replace('_',''))"
   ]
  },
  {
   "cell_type": "code",
   "execution_count": 5,
   "id": "3006c46b-c207-49d6-adef-0c7a449cd2a3",
   "metadata": {},
   "outputs": [],
   "source": [
    "vacc_dict_yso = [transnet.create_yso_dict(y, transnet.vacc_dict_samples['sample 0'], \n",
    "                                         transnet.school_data, years_in_pri=8., \n",
    "                                         years_in_sec=5., post_outbreak=0.98) for y in range(1, 14, 1)]"
   ]
  },
  {
   "cell_type": "code",
   "execution_count": 6,
   "id": "eca62eed-311c-4a55-92b9-f10707cf3231",
   "metadata": {},
   "outputs": [],
   "source": [
    "vacc_dict_yso_dict = dict(np.transpose([['sample ' + str(y) for y in range(13)] , vacc_dict_yso]))"
   ]
  },
  {
   "cell_type": "code",
   "execution_count": 8,
   "id": "d75b9d36-f9b9-4214-9243-1bb7b16c70a6",
   "metadata": {},
   "outputs": [],
   "source": [
    "def make_FS_df(cons, seeds, vaccs, vacc_dict):\n",
    "    FS_new = []\n",
    "    for i, con in enumerate(cons):\n",
    "        #print seed \n",
    "        seed = seeds[i]\n",
    "        vacc_no = vaccs[i]\n",
    "        vacc = vacc_dict['sample ' + str(int(vacc_no.replace('_','')))]\n",
    "        cs = np.intersect1d(con, transnet.nodes)\n",
    "        #print 'calc 1'\n",
    "        FSs = np.array([FSList[int((1. - vacc[sch])*1000)] for sch in cs])\n",
    "        #print 'calc 2'\n",
    "        kidnos = np.array(num_frame.loc[cs].fillna(0).leerlingen)\n",
    "\n",
    "        #print 'calc 3'\n",
    "        no_inf = FSs*kidnos\n",
    "\n",
    "        #print 'calc 4'\n",
    "        tot_no_inf = no_inf.sum()\n",
    "        \n",
    "        pri_schools = np.intersect1d(cs , pri_BRIN)\n",
    "        sec_schools = np.intersect1d(cs , sec_BRIN)\n",
    "        \n",
    "        \n",
    "\n",
    "        FS_new.append([seed, vaccs[i], 1.*len(cs), 1.*len(pri_schools), 1.*len(sec_schools), tot_no_inf])\n",
    "    FS_df = pd.DataFrame(FS_new, columns=['Seed', 'vacc', 'primary', 'secondar', 'schools', 'children'])\n",
    "        \n",
    "    return FS_df"
   ]
  },
  {
   "cell_type": "code",
   "execution_count": 11,
   "id": "747317f9-19c8-41cb-b71c-2faa955539a3",
   "metadata": {},
   "outputs": [],
   "source": [
    "schools_data = dl.load_schools_data()\n",
    "pri_BRIN = schools_data.query('kind==\"pri\"').BRIN\n",
    "sec_BRIN = schools_data.query('kind==\"sec\"').BRIN"
   ]
  },
  {
   "cell_type": "code",
   "execution_count": null,
   "id": "14a7e2cf-844f-489e-9cef-cbcefbb11c88",
   "metadata": {},
   "outputs": [],
   "source": [
    "FSList = [models.op_fs(p, 15.) for p in np.arange(0, 1., 0.001)]\n",
    "num_frame = transnet.school_data[['BRIN', 'leerlingen']].set_index('BRIN')\n",
    "FS_df_yso_ps = make_FS_df(loaded_cons_yso, loaded_seeds_yso, loaded_vacc_yso, vacc_dict_yso_dict )"
   ]
  },
  {
   "cell_type": "code",
   "execution_count": null,
   "id": "48d0eedd-07e4-4dd4-b1f2-477e260f1df4",
   "metadata": {},
   "outputs": [],
   "source": [
    "PC_Cases_yso11, pc4shapes_yso11 = plot_resmap(list(np.array(loaded_cons_yso)[np.array(loaded_vacc_yso) == '10']), list(np.array(loaded_seeds_yso)[np.array(loaded_vacc_yso) == '10']))"
   ]
  }
 ],
 "metadata": {
  "kernelspec": {
   "display_name": "Python 3 (ipykernel)",
   "language": "python",
   "name": "python3"
  },
  "language_info": {
   "codemirror_mode": {
    "name": "ipython",
    "version": 3
   },
   "file_extension": ".py",
   "mimetype": "text/x-python",
   "name": "python",
   "nbconvert_exporter": "python",
   "pygments_lexer": "ipython3",
   "version": "3.9.16"
  }
 },
 "nbformat": 4,
 "nbformat_minor": 5
}
